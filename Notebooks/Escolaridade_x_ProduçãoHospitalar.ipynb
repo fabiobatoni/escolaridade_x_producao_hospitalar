{
  "nbformat": 4,
  "nbformat_minor": 0,
  "metadata": {
    "colab": {
      "name": "Escolaridade_x_ProduçãoHospitalar.ipynb",
      "private_outputs": true,
      "provenance": [],
      "authorship_tag": "ABX9TyPR7Q47Xx9cuEV1V6d5p8Z/",
      "include_colab_link": true
    },
    "kernelspec": {
      "name": "python3",
      "display_name": "Python 3"
    },
    "language_info": {
      "name": "python"
    }
  },
  "cells": [
    {
      "cell_type": "markdown",
      "metadata": {
        "id": "view-in-github",
        "colab_type": "text"
      },
      "source": [
        "<a href=\"https://colab.research.google.com/github/fabiobatoni/escolaridade_x_producao_hospitalar/blob/main/Notebooks/Escolaridade_x_Produ%C3%A7%C3%A3oHospitalar.ipynb\" target=\"_parent\"><img src=\"https://colab.research.google.com/assets/colab-badge.svg\" alt=\"Open In Colab\"/></a>"
      ]
    },
    {
      "cell_type": "markdown",
      "metadata": {
        "id": "AimY8G9fimZG"
      },
      "source": [
        "# Caderno exploração dos dados:\n",
        "*   Datasus Censo 2010 (Escolaridade)\n",
        "*   Datasus Gastos materiais hospitalares \n",
        " "
      ]
    },
    {
      "cell_type": "markdown",
      "metadata": {
        "id": "kcXSdqh7I3Fm"
      },
      "source": [
        "A Pesquisa Nacional por Amostra de Domicílios (Pnad) considera todos com mais de 15 anos de idade que não sabem ler, nem escrever. No Brasil, segundo o estudo de 2013, a taxa está em 8,7% da população.\n",
        "https://educacaointegral.org.br/glossario/analfabetismo/"
      ]
    },
    {
      "cell_type": "code",
      "metadata": {
        "id": "q4T1UwANiikb"
      },
      "source": [
        "import pandas as pd\n",
        "import numpy as np\n",
        "import matplotlib.pyplot as plt\n",
        "import seaborn as sns"
      ],
      "execution_count": null,
      "outputs": []
    },
    {
      "cell_type": "code",
      "metadata": {
        "id": "zH7XZ4t4jMNt"
      },
      "source": [
        "dados = pd.read_csv('/content/A144102189_28_143_208.csv', encoding=\"ISO-8859-1\", engine='python', \n",
        "                   skiprows = 3, sep=\";\", skipfooter=7, \n",
        "                   thousands=\".\", decimal=\",\", index_col=0).drop('Total', axis=1)\n",
        "\n",
        "dados.head()"
      ],
      "execution_count": null,
      "outputs": []
    },
    {
      "cell_type": "code",
      "metadata": {
        "id": "3wXRD4t_qN_Q"
      },
      "source": [
        ""
      ],
      "execution_count": null,
      "outputs": []
    },
    {
      "cell_type": "markdown",
      "metadata": {
        "id": "FdISwMvGqWkY"
      },
      "source": [
        "**Qual a maior porcentagem de escolaridade ?**"
      ]
    },
    {
      "cell_type": "code",
      "metadata": {
        "id": "dkuwaMYujRAp"
      },
      "source": [
        "dados.mean()"
      ],
      "execution_count": null,
      "outputs": []
    },
    {
      "cell_type": "markdown",
      "metadata": {
        "id": "jbeHa55pj6lO"
      },
      "source": [
        "# 50% da população em 2010 possuem fundamental completo ou mais"
      ]
    },
    {
      "cell_type": "code",
      "metadata": {
        "id": "0fDpuUCQwpZE"
      },
      "source": [
        "estados_escolaridade = dados['2º ciclo fundamental completo ou mais'].sort_values(ascending=False)"
      ],
      "execution_count": null,
      "outputs": []
    },
    {
      "cell_type": "code",
      "metadata": {
        "id": "l0cyDm7AXRdS"
      },
      "source": [
        "estados_escolaridade"
      ],
      "execution_count": null,
      "outputs": []
    },
    {
      "cell_type": "markdown",
      "metadata": {
        "id": "1_Q8yO5YRO44"
      },
      "source": [
        "Selecionei os 5 estados com o numero de populacao parecidos: \n",
        "\n",
        "![image.png](data:image/png;base64,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)\n",
        "\n",
        "https://www.cnnbrasil.com.br/nacional/populacao-brasileira-chega-a-2133-milhoes-de-pessoas-em-2021-diz-ibge/"
      ]
    },
    {
      "cell_type": "markdown",
      "metadata": {
        "id": "OvT0ZGzu7z73"
      },
      "source": [
        "Dos 5 estados , vamos selecionar apenas Piaui, Alagoas, Rio Grande do Norte e Mato Grosso que coencidentemente fazem parte da Região do Nordeste"
      ]
    },
    {
      "cell_type": "code",
      "metadata": {
        "id": "P17sKXIAYFRc"
      },
      "source": [
        "piaui_esc = estados_escolaridade.loc[['22 Piauí']]\n",
        "alagoas_esc = estados_escolaridade.loc[['27 Alagoas']]\n",
        "rio_grande_norte_esc = estados_escolaridade.loc[['24 Rio Grande do Norte']]\n",
        "mato_grosso_esc = estados_escolaridade.loc[['51 Mato Grosso']]"
      ],
      "execution_count": null,
      "outputs": []
    },
    {
      "cell_type": "code",
      "metadata": {
        "id": "GSotExMhYLsS"
      },
      "source": [
        "cinco_estados_escolaridade = pd.concat([ piaui_esc, alagoas_esc, rio_grande_norte_esc, mato_grosso_esc])\n",
        "cinco_estados_escolaridade = cinco_estados_escolaridade.sort_values(ascending=False)\n",
        "cinco_estados_escolaridade"
      ],
      "execution_count": null,
      "outputs": []
    },
    {
      "cell_type": "markdown",
      "metadata": {
        "id": "S-Zi6Klj5t05"
      },
      "source": [
        "# **Dados de Consumo hospitalar**"
      ]
    },
    {
      "cell_type": "code",
      "metadata": {
        "id": "6baIPiKxxouT"
      },
      "source": [
        "url = 'https://raw.githubusercontent.com/alura-cursos/agendamento-hospitalar/main/dados/A160324189_28_143_208.csv'\n",
        "\n",
        "dados_2 = pd.read_csv(url, encoding=\"ISO-8859-1\", engine='python', \n",
        "                   skiprows = 3, sep=\";\", skipfooter=12, \n",
        "                   thousands=\".\", decimal=\",\", index_col=0).drop('Total', axis=1)\n",
        "\n",
        "dados_2.head()"
      ],
      "execution_count": null,
      "outputs": []
    },
    {
      "cell_type": "markdown",
      "metadata": {
        "id": "c1O5OGGV524I"
      },
      "source": [
        "**Tratando dados de consumo**"
      ]
    },
    {
      "cell_type": "code",
      "metadata": {
        "id": "DcgeD4mt5tR5"
      },
      "source": [
        "dados_2.isnull().sum().sum()"
      ],
      "execution_count": null,
      "outputs": []
    },
    {
      "cell_type": "markdown",
      "metadata": {
        "id": "vAdyVw_R6ZAu"
      },
      "source": [
        "Observe que o dados nullos estao somando em zero por conta dos tipo \"object\" "
      ]
    },
    {
      "cell_type": "code",
      "metadata": {
        "id": "5fZ3E0i25--c"
      },
      "source": [
        "dados_2.info()"
      ],
      "execution_count": null,
      "outputs": []
    },
    {
      "cell_type": "markdown",
      "metadata": {
        "id": "96zbqvgp6iX-"
      },
      "source": [
        "Usando a biblioteca numpy para trocar por Not a Number"
      ]
    },
    {
      "cell_type": "code",
      "metadata": {
        "id": "OzgSdMdy6DVG"
      },
      "source": [
        "dados_2 = dados_2.replace('-', np.nan)"
      ],
      "execution_count": null,
      "outputs": []
    },
    {
      "cell_type": "code",
      "metadata": {
        "id": "VmzEvsGxvtD6"
      },
      "source": [
        ""
      ],
      "execution_count": null,
      "outputs": []
    },
    {
      "cell_type": "code",
      "metadata": {
        "id": "9M8rbyMj6oUA"
      },
      "source": [
        "dados_2.T.info()"
      ],
      "execution_count": null,
      "outputs": []
    },
    {
      "cell_type": "code",
      "metadata": {
        "id": "fzCX-YNQ6slP"
      },
      "source": [
        "dados_2.isnull().sum().sum()"
      ],
      "execution_count": null,
      "outputs": []
    },
    {
      "cell_type": "code",
      "metadata": {
        "id": "8oVYguRr6vKe"
      },
      "source": [
        "dados_2 = dados_2.astype('float64')"
      ],
      "execution_count": null,
      "outputs": []
    },
    {
      "cell_type": "markdown",
      "metadata": {
        "id": "8fyYW7lC6-55"
      },
      "source": [
        "Pegar dados de 2010"
      ]
    },
    {
      "cell_type": "code",
      "metadata": {
        "id": "pq_plf2_60YD"
      },
      "source": [
        "dados_2010 = ['2010/Jan', '2010/Fev', '2010/Mar', '2010/Abr',\n",
        "       '2010/Mai', '2010/Jun', '2010/Jul', '2010/Ago', '2010/Set', '2010/Out', '2010/Nov', '2010/Dez']\n",
        "\n",
        "dados_2010"
      ],
      "execution_count": null,
      "outputs": []
    },
    {
      "cell_type": "code",
      "metadata": {
        "id": "HhfpFvPUFXqZ"
      },
      "source": [
        "dados_ano_2010 = dados_2[dados_2010]\n"
      ],
      "execution_count": null,
      "outputs": []
    },
    {
      "cell_type": "code",
      "metadata": {
        "id": "zBs5AvAHUKia"
      },
      "source": [
        "pd.set_option('float_format', '{:.3f}'.format)"
      ],
      "execution_count": null,
      "outputs": []
    },
    {
      "cell_type": "code",
      "metadata": {
        "id": "p96VVEb9Rh3q"
      },
      "source": [
        "dados_ano_2010"
      ],
      "execution_count": null,
      "outputs": []
    },
    {
      "cell_type": "code",
      "metadata": {
        "id": "mpYlZtcIUijM"
      },
      "source": [
        "dados_ano_2010[\"Total\"] = dados_ano_2010.sum(axis=1)"
      ],
      "execution_count": null,
      "outputs": []
    },
    {
      "cell_type": "code",
      "metadata": {
        "id": "anCxh1dXU2QV"
      },
      "source": [
        "dados_ano_2010"
      ],
      "execution_count": null,
      "outputs": []
    },
    {
      "cell_type": "code",
      "metadata": {
        "id": "pw4sy3jaVWWm"
      },
      "source": [
        "piaui = dados_ano_2010.loc[['22 Piauí']]\n",
        "alagoas = dados_ano_2010.loc[['27 Alagoas']]\n",
        "rio_grande_norte = dados_ano_2010.loc[['24 Rio Grande do Norte']]\n",
        "mato_grosso = dados_ano_2010.loc[['51 Mato Grosso']]\n",
        "\n"
      ],
      "execution_count": null,
      "outputs": []
    },
    {
      "cell_type": "code",
      "metadata": {
        "id": "z6f7E0wkVfoS"
      },
      "source": [
        "cinco_estados_gastos = pd.concat([piaui, alagoas, rio_grande_norte, mato_grosso])"
      ],
      "execution_count": null,
      "outputs": []
    },
    {
      "cell_type": "code",
      "metadata": {
        "id": "T7kCKo-DWWl9"
      },
      "source": [
        "cinco_estados_gastos = cinco_estados_gastos.sort_values(\"Total\", ascending=False)"
      ],
      "execution_count": null,
      "outputs": []
    },
    {
      "cell_type": "code",
      "metadata": {
        "id": "XwFUofAwWhrL"
      },
      "source": [
        "cinco_estados_gastos"
      ],
      "execution_count": null,
      "outputs": []
    },
    {
      "cell_type": "markdown",
      "metadata": {
        "id": "QxYGzdHzXpOp"
      },
      "source": [
        "# Comparar se os gastos dos estados sao ordenados de acordo com a escolaridade"
      ]
    },
    {
      "cell_type": "code",
      "metadata": {
        "id": "jZJAchISW5YZ"
      },
      "source": [
        "plt.show()\n",
        "ax = cinco_estados_escolaridade.plot(kind=\"bar\",figsize=(10,6))\n",
        "ax.legend(fontsize = 16)\n",
        "ax.set_title(\"Comparacao de escolaridade\", fontsize=24)\n",
        "ax.tick_params(labelsize=12)\n",
        "ax.set_ylabel('Porcentagem (%)', fontsize=18)\n",
        "ax.set_xlabel('Estados(Nordeste)', fontsize = 18)\n",
        "plt.show()"
      ],
      "execution_count": null,
      "outputs": []
    },
    {
      "cell_type": "code",
      "metadata": {
        "id": "cxiQr-XmYpZf"
      },
      "source": [
        "ax = cinco_estados_gastos.plot(kind=\"bar\", y = 'Total',figsize=(10,6))\n",
        "ax.legend(fontsize = 16)\n",
        "ax.set_title(\"Comparacao de Gastos\", fontsize=24)\n",
        "ax.tick_params(labelsize=12)\n",
        "ax.set_ylabel('Milhões R$', fontsize=18)\n",
        "ax.set_xlabel('Estados(Nordeste)', fontsize = 18)\n",
        "plt.show()"
      ],
      "execution_count": null,
      "outputs": []
    },
    {
      "cell_type": "markdown",
      "metadata": {
        "id": "9-mIX6EI9UPd"
      },
      "source": [
        "Será que o Estado que possui maior escolaridade , gasta mais, por irem mais vezes aos hospitais por conta da informação ou gastam menos por saberem se prevenir de doenças, assim evitando a ida ao hospital ?\n",
        "\n",
        "**Minha Hipótese** seria que o estado que possui maior grau de escolaridade gastaria menos que outro que possui menor.\n",
        "\n",
        "Porém analisando o estados da Região do Nordeste que possui taxa populacional parecidas, não é possível obter essa conclusão.\n",
        "\n"
      ]
    },
    {
      "cell_type": "code",
      "metadata": {
        "id": "BCv7JBHn9UFp"
      },
      "source": [
        ""
      ],
      "execution_count": null,
      "outputs": []
    }
  ]
}